{
 "cells": [
  {
   "cell_type": "code",
   "execution_count": 35,
   "id": "befdfcf2",
   "metadata": {},
   "outputs": [],
   "source": [
    "import os\n",
    "import keras \n",
    "from keras.models import Sequential\n",
    "from tensorflow.keras.utils import plot_model\n",
    "from keras.layers import (\n",
    "    BatchNormalization, \n",
    "    Conv2D, \n",
    "    Dense, \n",
    "    Dropout, \n",
    "    Flatten,\n",
    "    MaxPooling2D)\n",
    "from PIL import Image\n",
    "import numpy as np\n",
    "import pandas as pd\n",
    "import matplotlib.pyplot as plt\n",
    "from sklearn.model_selection import train_test_split\n",
    "from sklearn.preprocessing import OneHotEncoder \n",
    "from sklearn.metrics import confusion_matrix,ConfusionMatrixDisplay\n",
    "from ann_visualizer.visualize import ann_viz"
   ]
  },
  {
   "cell_type": "code",
   "execution_count": 4,
   "id": "6e0ef6e6",
   "metadata": {},
   "outputs": [
    {
     "data": {
      "text/plain": [
       "OneHotEncoder()"
      ]
     },
     "execution_count": 4,
     "metadata": {},
     "output_type": "execute_result"
    }
   ],
   "source": [
    "encoder = OneHotEncoder()\n",
    "encoder.fit([[1], [0]]) \n",
    "\n",
    "# 1 - Tumor\n",
    "# 0 - Normal"
   ]
  },
  {
   "cell_type": "markdown",
   "id": "0e833b2f",
   "metadata": {},
   "source": [
    "## Load the Images"
   ]
  },
  {
   "cell_type": "code",
   "execution_count": 5,
   "id": "308b7b31",
   "metadata": {},
   "outputs": [],
   "source": [
    "data = []\n",
    "paths = []\n",
    "labels = []\n",
    "\n",
    "for r, d, f in os.walk(r'./data/crop/yes'):\n",
    "    for file in f:\n",
    "        if '.jpg' in file:\n",
    "            paths.append(os.path.join(r, file))\n",
    "\n",
    "for path in paths:\n",
    "    img = Image.open(path)\n",
    "    img = img.resize((128,128))\n",
    "    img = np.array(img)\n",
    "    if(img.shape == (128,128,3)):\n",
    "        data.append(np.array(img))\n",
    "        labels.append(encoder.transform([[0]]).toarray())"
   ]
  },
  {
   "cell_type": "code",
   "execution_count": 6,
   "id": "ba2034f1",
   "metadata": {},
   "outputs": [],
   "source": [
    "paths = []\n",
    "for r, d, f in os.walk(r\"./data/crop/no\"):\n",
    "    for file in f:\n",
    "        if '.jpg' in file:\n",
    "            paths.append(os.path.join(r, file))\n",
    "\n",
    "for path in paths:\n",
    "    img = Image.open(path)\n",
    "    img = img.resize((128,128))\n",
    "    img = np.array(img)\n",
    "    if(img.shape == (128,128,3)):\n",
    "        data.append(np.array(img))\n",
    "        labels.append(encoder.transform([[1]]).toarray())"
   ]
  },
  {
   "cell_type": "code",
   "execution_count": 7,
   "id": "2179ba77",
   "metadata": {},
   "outputs": [
    {
     "data": {
      "text/plain": [
       "(3000, 128, 128, 3)"
      ]
     },
     "execution_count": 7,
     "metadata": {},
     "output_type": "execute_result"
    }
   ],
   "source": [
    "data = np.array(data)\n",
    "data.shape"
   ]
  },
  {
   "cell_type": "code",
   "execution_count": 11,
   "id": "ae44e7f1",
   "metadata": {},
   "outputs": [],
   "source": [
    "labels = np.array(labels)\n",
    "labels = labels.reshape(3000,2)"
   ]
  },
  {
   "cell_type": "markdown",
   "id": "5d002195",
   "metadata": {},
   "source": [
    "## Split the data"
   ]
  },
  {
   "cell_type": "code",
   "execution_count": 12,
   "id": "23a64f55",
   "metadata": {},
   "outputs": [],
   "source": [
    "x_train,x_data,y_train,y_data = train_test_split(data, labels, train_size=0.6, shuffle=True, random_state=0)\n",
    "x_test,x_val,y_test,y_val = train_test_split(x_data, y_data, train_size=0.5, shuffle=True, random_state=0)"
   ]
  },
  {
   "cell_type": "markdown",
   "id": "d250b034",
   "metadata": {},
   "source": [
    "## Define the model"
   ]
  },
  {
   "cell_type": "code",
   "execution_count": 13,
   "id": "6b65ac7c",
   "metadata": {
    "scrolled": true
   },
   "outputs": [],
   "source": [
    "classes = 2\n",
    "\n",
    "model = Sequential()\n",
    "\n",
    "model.add(Conv2D(32, kernel_size=(2, 2), input_shape=(128, 128, 3), padding = 'Same'))\n",
    "model.add(Conv2D(32, kernel_size=(2, 2),  activation ='relu', padding = 'Same'))\n",
    "\n",
    "model.add(BatchNormalization())\n",
    "model.add(MaxPooling2D(pool_size=(2, 2)))\n",
    "model.add(Dropout(0.25))\n",
    "\n",
    "model.add(Conv2D(64, kernel_size = (2,2), activation ='relu', padding = 'Same'))\n",
    "model.add(Conv2D(64, kernel_size = (2,2), activation ='relu', padding = 'Same'))\n",
    "\n",
    "model.add(BatchNormalization())\n",
    "model.add(MaxPooling2D(pool_size=(2,2), strides=(2,2)))\n",
    "model.add(Dropout(0.25))\n",
    "\n",
    "model.add(Flatten())\n",
    "\n",
    "model.add(Dense(512, activation='relu'))\n",
    "model.add(Dropout(0.5))\n",
    "model.add(Dense(classes, activation='softmax'))"
   ]
  },
  {
   "cell_type": "code",
   "execution_count": 14,
   "id": "327448b1",
   "metadata": {},
   "outputs": [
    {
     "name": "stdout",
     "output_type": "stream",
     "text": [
      "Model: \"sequential\"\n",
      "_________________________________________________________________\n",
      "Layer (type)                 Output Shape              Param #   \n",
      "=================================================================\n",
      "conv2d (Conv2D)              (None, 128, 128, 32)      416       \n",
      "_________________________________________________________________\n",
      "conv2d_1 (Conv2D)            (None, 128, 128, 32)      4128      \n",
      "_________________________________________________________________\n",
      "batch_normalization (BatchNo (None, 128, 128, 32)      128       \n",
      "_________________________________________________________________\n",
      "max_pooling2d (MaxPooling2D) (None, 64, 64, 32)        0         \n",
      "_________________________________________________________________\n",
      "dropout (Dropout)            (None, 64, 64, 32)        0         \n",
      "_________________________________________________________________\n",
      "conv2d_2 (Conv2D)            (None, 64, 64, 64)        8256      \n",
      "_________________________________________________________________\n",
      "conv2d_3 (Conv2D)            (None, 64, 64, 64)        16448     \n",
      "_________________________________________________________________\n",
      "batch_normalization_1 (Batch (None, 64, 64, 64)        256       \n",
      "_________________________________________________________________\n",
      "max_pooling2d_1 (MaxPooling2 (None, 32, 32, 64)        0         \n",
      "_________________________________________________________________\n",
      "dropout_1 (Dropout)          (None, 32, 32, 64)        0         \n",
      "_________________________________________________________________\n",
      "flatten (Flatten)            (None, 65536)             0         \n",
      "_________________________________________________________________\n",
      "dense (Dense)                (None, 512)               33554944  \n",
      "_________________________________________________________________\n",
      "dropout_2 (Dropout)          (None, 512)               0         \n",
      "_________________________________________________________________\n",
      "dense_1 (Dense)              (None, 2)                 1026      \n",
      "=================================================================\n",
      "Total params: 33,585,602\n",
      "Trainable params: 33,585,410\n",
      "Non-trainable params: 192\n",
      "_________________________________________________________________\n",
      "None\n"
     ]
    }
   ],
   "source": [
    "model.compile(loss = \"categorical_crossentropy\", optimizer='Adamax',  metrics = ['accuracy'])\n",
    "print(model.summary())"
   ]
  },
  {
   "cell_type": "markdown",
   "id": "735a6c8d",
   "metadata": {},
   "source": [
    "## Train the model"
   ]
  },
  {
   "cell_type": "code",
   "execution_count": 15,
   "id": "b3f45429",
   "metadata": {
    "scrolled": false
   },
   "outputs": [
    {
     "name": "stdout",
     "output_type": "stream",
     "text": [
      "Epoch 1/30\n",
      "45/45 [==============================] - 57s 1s/step - loss: 11.8812 - accuracy: 0.5989 - val_loss: 2.0426 - val_accuracy: 0.5917\n",
      "Epoch 2/30\n",
      "45/45 [==============================] - 56s 1s/step - loss: 0.5984 - accuracy: 0.7494 - val_loss: 0.6781 - val_accuracy: 0.7217\n",
      "Epoch 3/30\n",
      "45/45 [==============================] - 56s 1s/step - loss: 0.4037 - accuracy: 0.8383 - val_loss: 0.5738 - val_accuracy: 0.7933\n",
      "Epoch 4/30\n",
      "45/45 [==============================] - 55s 1s/step - loss: 0.3533 - accuracy: 0.8550 - val_loss: 0.5617 - val_accuracy: 0.8350\n",
      "Epoch 5/30\n",
      "45/45 [==============================] - 55s 1s/step - loss: 0.2662 - accuracy: 0.8867 - val_loss: 0.6818 - val_accuracy: 0.8017\n",
      "Epoch 6/30\n",
      "45/45 [==============================] - 54s 1s/step - loss: 0.2242 - accuracy: 0.9139 - val_loss: 0.7027 - val_accuracy: 0.8033\n",
      "Epoch 7/30\n",
      "45/45 [==============================] - 53s 1s/step - loss: 0.1862 - accuracy: 0.9356 - val_loss: 0.6371 - val_accuracy: 0.8350\n",
      "Epoch 8/30\n",
      "45/45 [==============================] - 55s 1s/step - loss: 0.1626 - accuracy: 0.9489 - val_loss: 0.6418 - val_accuracy: 0.8350\n",
      "Epoch 9/30\n",
      "45/45 [==============================] - 54s 1s/step - loss: 0.1372 - accuracy: 0.9550 - val_loss: 0.5489 - val_accuracy: 0.8467\n",
      "Epoch 10/30\n",
      "45/45 [==============================] - 55s 1s/step - loss: 0.1323 - accuracy: 0.9517 - val_loss: 0.5662 - val_accuracy: 0.8483\n",
      "Epoch 11/30\n",
      "45/45 [==============================] - 54s 1s/step - loss: 0.0928 - accuracy: 0.9700 - val_loss: 0.6326 - val_accuracy: 0.8367\n",
      "Epoch 12/30\n",
      "45/45 [==============================] - 53s 1s/step - loss: 0.0827 - accuracy: 0.9733 - val_loss: 0.3538 - val_accuracy: 0.9033\n",
      "Epoch 13/30\n",
      "45/45 [==============================] - 52s 1s/step - loss: 0.0807 - accuracy: 0.9767 - val_loss: 0.3266 - val_accuracy: 0.9050\n",
      "Epoch 14/30\n",
      "45/45 [==============================] - 51s 1s/step - loss: 0.0618 - accuracy: 0.9856 - val_loss: 0.4476 - val_accuracy: 0.8833\n",
      "Epoch 15/30\n",
      "45/45 [==============================] - 52s 1s/step - loss: 0.0514 - accuracy: 0.9844 - val_loss: 0.3587 - val_accuracy: 0.9100\n",
      "Epoch 16/30\n",
      "45/45 [==============================] - 54s 1s/step - loss: 0.0536 - accuracy: 0.9878 - val_loss: 0.2260 - val_accuracy: 0.9300\n",
      "Epoch 17/30\n",
      "45/45 [==============================] - 55s 1s/step - loss: 0.0449 - accuracy: 0.9906 - val_loss: 0.2161 - val_accuracy: 0.9317\n",
      "Epoch 18/30\n",
      "45/45 [==============================] - 55s 1s/step - loss: 0.0451 - accuracy: 0.9872 - val_loss: 0.2194 - val_accuracy: 0.9267\n",
      "Epoch 19/30\n",
      "45/45 [==============================] - 54s 1s/step - loss: 0.0330 - accuracy: 0.9922 - val_loss: 0.2555 - val_accuracy: 0.9233\n",
      "Epoch 20/30\n",
      "45/45 [==============================] - 54s 1s/step - loss: 0.0369 - accuracy: 0.9922 - val_loss: 0.2023 - val_accuracy: 0.9367\n",
      "Epoch 21/30\n",
      "45/45 [==============================] - 55s 1s/step - loss: 0.0320 - accuracy: 0.9939 - val_loss: 0.2219 - val_accuracy: 0.9350\n",
      "Epoch 22/30\n",
      "45/45 [==============================] - 55s 1s/step - loss: 0.0231 - accuracy: 0.9956 - val_loss: 0.3816 - val_accuracy: 0.9033\n",
      "Epoch 23/30\n",
      "45/45 [==============================] - 55s 1s/step - loss: 0.0230 - accuracy: 0.9939 - val_loss: 0.2730 - val_accuracy: 0.9333\n",
      "Epoch 24/30\n",
      "45/45 [==============================] - 55s 1s/step - loss: 0.0246 - accuracy: 0.9933 - val_loss: 0.2165 - val_accuracy: 0.9383\n",
      "Epoch 25/30\n",
      "45/45 [==============================] - 54s 1s/step - loss: 0.0199 - accuracy: 0.9933 - val_loss: 0.2438 - val_accuracy: 0.9333\n",
      "Epoch 26/30\n",
      "45/45 [==============================] - 55s 1s/step - loss: 0.0253 - accuracy: 0.9956 - val_loss: 0.1921 - val_accuracy: 0.9483\n",
      "Epoch 27/30\n",
      "45/45 [==============================] - 54s 1s/step - loss: 0.0171 - accuracy: 0.9978 - val_loss: 0.1851 - val_accuracy: 0.9467\n",
      "Epoch 28/30\n",
      "45/45 [==============================] - 54s 1s/step - loss: 0.0157 - accuracy: 0.9972 - val_loss: 0.2171 - val_accuracy: 0.9433\n",
      "Epoch 29/30\n",
      "45/45 [==============================] - 55s 1s/step - loss: 0.0166 - accuracy: 0.9956 - val_loss: 0.2255 - val_accuracy: 0.9317\n",
      "Epoch 30/30\n",
      "45/45 [==============================] - 54s 1s/step - loss: 0.0185 - accuracy: 0.9944 - val_loss: 0.2297 - val_accuracy: 0.9400\n"
     ]
    }
   ],
   "source": [
    "history = model.fit(x_train, \n",
    "                    y_train, \n",
    "                    epochs = 30, \n",
    "                    batch_size = 40, \n",
    "                    verbose = 1,\n",
    "                    validation_data = (x_val, y_val))"
   ]
  },
  {
   "cell_type": "markdown",
   "id": "59a19671",
   "metadata": {},
   "source": [
    "### Plot Loss and and Accuracy"
   ]
  },
  {
   "cell_type": "code",
   "execution_count": 25,
   "id": "f732c73b",
   "metadata": {},
   "outputs": [
    {
     "data": {
      "image/png": "[encoded data removed]",
      "text/plain": [
       "<Figure size 864x360 with 2 Axes>"
      ]
     },
     "metadata": {
      "needs_background": "light"
     },
     "output_type": "display_data"
    }
   ],
   "source": [
    "plt.figure(figsize=(12,5))\n",
    "plt.subplot(1,2,1)\n",
    "plt.plot(history.history['loss']);\n",
    "plt.plot(history.history['val_loss']);\n",
    "plt.title(\"Classification Model Loss\");\n",
    "plt.ylabel(\"loss\");\n",
    "plt.xlabel(\"Epochs\");\n",
    "plt.legend(['train', 'val']);\n",
    "\n",
    "plt.subplot(1,2,2)\n",
    "plt.plot(history.history['accuracy']);\n",
    "plt.plot(history.history['val_accuracy']);\n",
    "plt.title(\"Classification Model Accuracy\");\n",
    "plt.ylabel(\"Accuracy\");\n",
    "plt.xlabel(\"Epochs\");\n",
    "plt.legend(['train', 'val']);"
   ]
  },
  {
   "cell_type": "markdown",
   "id": "1ff6c5e2",
   "metadata": {},
   "source": [
    "## Predict"
   ]
  },
  {
   "cell_type": "code",
   "execution_count": 27,
   "id": "ce591837",
   "metadata": {
    "scrolled": true
   },
   "outputs": [],
   "source": [
    "preds = model.predict_on_batch(x_test)\n",
    "classification = np.where(preds == np.amax(preds))[1][0]"
   ]
  },
  {
   "cell_type": "markdown",
   "id": "3ef9493a",
   "metadata": {},
   "source": [
    "### Plot Confusion Matrix for Testing Data"
   ]
  },
  {
   "cell_type": "code",
   "execution_count": 42,
   "id": "7b7f0d5e",
   "metadata": {},
   "outputs": [
    {
     "data": {
      "image/png": "[encoded data removed]",
      "text/plain": [
       "<Figure size 432x288 with 2 Axes>"
      ]
     },
     "metadata": {
      "needs_background": "light"
     },
     "output_type": "display_data"
    }
   ],
   "source": [
    "y_true = np.argmax(y_test,axis=1)\n",
    "y_pred = np.argmax(preds,axis=1)\n",
    "\n",
    "conf_mat = confusion_matrix(y_true,y_pred)\n",
    "display = ConfusionMatrixDisplay(conf_mat)\n",
    "display.plot()\n",
    "plt.title('Confusion Matrix of Testing Data')\n",
    "plt.show()"
   ]
  },
  {
   "cell_type": "code",
   "execution_count": 3,
   "id": "72e096e5",
   "metadata": {},
   "outputs": [
    {
     "name": "stdout",
     "output_type": "stream",
     "text": [
      "Class Rate:  0.9166666666666666\n"
     ]
    }
   ],
   "source": [
    "class_rate = (276+274)/(276+41+9+274)\n",
    "print('Class Rate: ',class_rate)"
   ]
  }
 ],
 "metadata": {
  "kernelspec": {
   "display_name": "Python 3 (ipykernel)",
   "language": "python",
   "name": "python3"
  },
  "language_info": {
   "codemirror_mode": {
    "name": "ipython",
    "version": 3
   },
   "file_extension": ".py",
   "mimetype": "text/x-python",
   "name": "python",
   "nbconvert_exporter": "python",
   "pygments_lexer": "ipython3",
   "version": "3.9.7"
  }
 },
 "nbformat": 4,
 "nbformat_minor": 5
}
